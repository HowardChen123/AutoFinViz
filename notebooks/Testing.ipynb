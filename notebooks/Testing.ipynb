{
  "cells": [
    {
      "cell_type": "code",
      "execution_count": 1,
      "metadata": {
        "colab": {
          "base_uri": "https://localhost:8080/"
        },
        "id": "8Jp_WVZgm33K",
        "outputId": "a6854da6-77f0-4e5d-b9bb-bdc87c80d994"
      },
      "outputs": [
        {
          "name": "stdout",
          "output_type": "stream",
          "text": [
            "Requirement already satisfied: openai in /Users/borisyu/opt/anaconda3/lib/python3.8/site-packages (1.3.5)\n",
            "Requirement already satisfied: anyio<4,>=3.5.0 in /Users/borisyu/opt/anaconda3/lib/python3.8/site-packages (from openai) (3.5.0)\n",
            "Requirement already satisfied: distro<2,>=1.7.0 in /Users/borisyu/opt/anaconda3/lib/python3.8/site-packages (from openai) (1.8.0)\n",
            "Requirement already satisfied: httpx<1,>=0.23.0 in /Users/borisyu/opt/anaconda3/lib/python3.8/site-packages (from openai) (0.25.2)\n",
            "Requirement already satisfied: pydantic<3,>=1.9.0 in /Users/borisyu/opt/anaconda3/lib/python3.8/site-packages (from openai) (1.9.2)\n",
            "Requirement already satisfied: tqdm>4 in /Users/borisyu/opt/anaconda3/lib/python3.8/site-packages (from openai) (4.65.0)\n",
            "Requirement already satisfied: typing-extensions<5,>=4.5 in /Users/borisyu/opt/anaconda3/lib/python3.8/site-packages (from openai) (4.7.1)\n",
            "Requirement already satisfied: idna>=2.8 in /Users/borisyu/opt/anaconda3/lib/python3.8/site-packages (from anyio<4,>=3.5.0->openai) (3.4)\n",
            "Requirement already satisfied: sniffio>=1.1 in /Users/borisyu/opt/anaconda3/lib/python3.8/site-packages (from anyio<4,>=3.5.0->openai) (1.2.0)\n",
            "Requirement already satisfied: certifi in /Users/borisyu/opt/anaconda3/lib/python3.8/site-packages (from httpx<1,>=0.23.0->openai) (2023.7.22)\n",
            "Requirement already satisfied: httpcore==1.* in /Users/borisyu/opt/anaconda3/lib/python3.8/site-packages (from httpx<1,>=0.23.0->openai) (1.0.2)\n",
            "Requirement already satisfied: h11<0.15,>=0.13 in /Users/borisyu/opt/anaconda3/lib/python3.8/site-packages (from httpcore==1.*->httpx<1,>=0.23.0->openai) (0.14.0)\n"
          ]
        }
      ],
      "source": [
        "!pip install openai"
      ]
    },
    {
      "cell_type": "code",
      "execution_count": 2,
      "metadata": {},
      "outputs": [],
      "source": [
        "## Get API from 'apikey' file\n",
        "filename = '../apikey'\n",
        "def get_file_contents(filename):\n",
        "    \"\"\" Given a filename,\n",
        "        return the contents of that file\n",
        "    \"\"\"\n",
        "    try:\n",
        "        with open(filename, 'r') as f:\n",
        "            return f.read().strip()\n",
        "    except FileNotFoundError:\n",
        "        print(\"'%s' file not found\" % filename)\n",
        "api_key = get_file_contents(filename)\n",
        "# print(\"Your API key is: %s\" % (api_key))"
      ]
    },
    {
      "cell_type": "code",
      "execution_count": 3,
      "metadata": {
        "id": "GYAJrm6emtgU"
      },
      "outputs": [],
      "source": [
        "from openai import OpenAI\n",
        "\n",
        "client = OpenAI(\n",
        "  api_key= api_key\n",
        ")"
      ]
    },
    {
      "cell_type": "code",
      "execution_count": 4,
      "metadata": {
        "colab": {
          "base_uri": "https://localhost:8080/"
        },
        "id": "ga81su6ymvJD",
        "outputId": "796929a4-9d5b-4187-cdaa-d18b0c4fcb01"
      },
      "outputs": [
        {
          "name": "stdout",
          "output_type": "stream",
          "text": [
            "ChatCompletionMessage(content=\"In the realm of code, a wondrous delight,\\nThere lies a concept, both clever and bright,\\nRecursion, a loop elegant and profound,\\nWhere self-referential magic can be found.\\n\\nPicture a function, humble and small,\\nWith the power to ignite, the ability to enthral,\\nIt calls itself, a mirror of its own grace,\\nUnfolding its essence, in an enchanting embrace.\\n\\nLike a pebble dropped in a tranquil lake,\\nReverberations of recursion, a path it will make,\\nExploring the depths with each passing theme,\\nUnraveling infinite loops, all part of its scheme.\\n\\nWith each iteration, a world anew,\\nA dance of procedure, as patterns accrue,\\nProblems untangle, their solutions unfold,\\nAs recursion seeks truth, steadfast and bold.\\n\\nIn the labyrinth of numbers, it finds its zest,\\nDividing and conquering, it's always the best,\\nSplitting a problem, into fragments so small,\\nRecursive brilliance, conquers them all.\\n\\nA Fibonacci sequence, a recursive affair,\\nWhere numbers embrace, with a mathematical flair,\\nThe elegance of recursion, unveils the grand design,\\nAs spirals unfurl, in a sequence so fine.\\n\\nIn data structures, like trees that grow tall,\\nRecursion paints branches, connects them all,\\nTraversing their paths, with precision and grace,\\nUnearthing patterns within, leaving no trace.\\n\\nBut caution we must, as recursion does store,\\nThe risk of infinite loops, forevermore,\\nA base case it seeks, a condition to cease,\\nTo ensure the loop, will find momentary peace.\\n\\nSo marvel, dear coder, at recursion's might,\\nA spark in the darkness, a beacon of light,\\nFor in this realm of logic and code,\\nRecursion weaves magic, an eternal ode.\", role='assistant', function_call=None, tool_calls=None)\n"
          ]
        }
      ],
      "source": [
        "## Testing ChatGPT API\n",
        "completion = client.chat.completions.create(\n",
        "  model=\"gpt-3.5-turbo\",\n",
        "  messages=[\n",
        "    {\"role\": \"system\", \"content\": \"You are a poetic assistant, skilled in explaining complex programming concepts with creative flair.\"},\n",
        "    {\"role\": \"user\", \"content\": \"Compose a poem that explains the concept of recursion in programming.\"}\n",
        "  ]\n",
        ")\n",
        "\n",
        "print(completion.choices[0].message)"
      ]
    },
    {
      "cell_type": "code",
      "execution_count": 5,
      "metadata": {},
      "outputs": [],
      "source": [
        "def summarize_dataset(df, df_name, category):\n",
        "\n",
        "  col = df.columns\n",
        "\n",
        "  if category == \"Market Dataset\":\n",
        "\n",
        "    system_prompt = \"You are an experienced Market financial analyst that understand all market dataset, including Stock Price market, Commodity Price market and Currecy Exchange Price market.\"\n",
        "  \n",
        "\n",
        "  elif category == \"Economic Dataset\":\n",
        "\n",
        "    system_prompt = \"You are an experienced Economist that understand all economic dataset, including Gross Domestic Product, Unemployment Rate and Consumer Price Index\"\n",
        "\n",
        "\n",
        "  elif category == \"Corporate Dataset\":\n",
        "\n",
        "    system_prompt = \" You are an experienced Corporate financial analyst that understand all company statement, including Income Statement and Cash Flow Statement.\"\n",
        "   \n",
        "  else:\n",
        "    return None\n",
        "\n",
        "  system_prompt += \"\"\"\n",
        "  You can figure out the TOP3 metrics derived from the dataset.\n",
        "  TOP means each data row can calculate a new metric.\n",
        "  ONLY return the result in a form of \"[\"name 1\", \"name 2\", \"name 3\"]\"\n",
        "  \"\"\"\n",
        "\n",
        "  message = f\"\"\"\n",
        "  I have a dataset called {df_name}, with its columns names below\n",
        "  {list(col)}\n",
        "  What are the TOP3 metrics I can derived from this dataset? (without explaination) \n",
        "  \"\"\"\n",
        "\n",
        "  completion = client.chat.completions.create(\n",
        "    model=\"gpt-3.5-turbo\",\n",
        "    messages=[\n",
        "      {\"role\": \"system\", \"content\": system_prompt},\n",
        "      {\"role\": \"assistant\", \"content\": message},\n",
        "    ]\n",
        "  )\n",
        "\n",
        "  return completion.choices[0].message.content"
      ]
    },
    {
      "cell_type": "code",
      "execution_count": 6,
      "metadata": {},
      "outputs": [],
      "source": [
        "def create_new_col(new_cols, df, df_name, category):\n",
        "\n",
        "  col = df.columns\n",
        "\n",
        "  if category == \"Market Dataset\":\n",
        "\n",
        "    system_prompt = \"\"\"\n",
        "    You are an experienced Market financial analyst that understand all market dataset, including Stock Price market, Commodity Price market and Currecy Exchange Price market.\n",
        "    You know all the calculation of financial concpets.\n",
        "    \"\"\"\n",
        "\n",
        "  elif category == \"Economic Dataset\":\n",
        "\n",
        "    system_prompt = \"\"\"\n",
        "    You are an experienced Economist that understand all economic dataset, including Gross Domestic Product, Unemployment Rate and Consumer Price Index.\n",
        "    You know all the calculation of economic concpets.\n",
        "    \"\"\"\n",
        "\n",
        "  elif category == \"Corporate Dataset\":\n",
        "    \n",
        "    system_prompt = \"\"\"\n",
        "    You are an experienced Economist that understand all economic dataset, including Gross Domestic Product, Unemployment Rate and Consumer Price Index.\n",
        "    You know all the calculation of economic concpets.\n",
        "    \"\"\"\n",
        "\n",
        "  else:\n",
        "    return None\n",
        "\n",
        "\n",
        "  system_prompt += \"\"\"\n",
        "  i) ONLY return Executable Python code\n",
        "  ii) NO NEED TO read the dataset into a dataframe\n",
        "  iii) DO NOT print out the new values\n",
        "  iv) USE \"df\" to represent the dataframe in the code\n",
        "  \"\"\"\n",
        "\n",
        "  message = f\"\"\"\n",
        "  I have a dataset called {df_name}, with its columns names below\n",
        "  {list(col)}\n",
        "  \n",
        "  Can you provide executable Python code to add the following columns\n",
        "  {new_cols}\n",
        "\n",
        "  ONLY return Executable Python code\n",
        "  USE \"df\" to represent the dataframe in the code\n",
        "  Code must not require further input\n",
        "  \n",
        "  \"\"\"\n",
        "\n",
        "  completion = client.chat.completions.create(\n",
        "  model=\"gpt-3.5-turbo\",\n",
        "  messages=[\n",
        "    {\"role\": \"system\", \"content\": system_prompt},\n",
        "    {\"role\": \"assistant\", \"content\": message},\n",
        "  ])\n",
        "\n",
        "  return completion.choices[0].message.content\n",
        "\n"
      ]
    },
    {
      "cell_type": "code",
      "execution_count": 7,
      "metadata": {},
      "outputs": [
        {
          "name": "stderr",
          "output_type": "stream",
          "text": [
            "/Users/borisyu/opt/anaconda3/lib/python3.8/site-packages/pandas/core/computation/expressions.py:20: UserWarning: Pandas requires version '2.7.3' or newer of 'numexpr' (version '2.7.2' currently installed).\n",
            "  from pandas.core.computation.check import NUMEXPR_INSTALLED\n"
          ]
        },
        {
          "name": "stdout",
          "output_type": "stream",
          "text": [
            "['Daily price range', 'Average daily price', 'Volume-weighted average price']\n",
            "Sure, here is the Python code to add the requested columns to the dataframe:\n",
            "\n",
            "```python\n",
            "df['Daily price range'] = df['High'] - df['Low']\n",
            "df['Average daily price'] = (df['Open'] + df['Close']) / 2\n",
            "df['Volume-weighted average price'] = (df['Close'] * df['Volume']).cumsum() / df['Volume'].cumsum()\n",
            "```\n",
            "\n",
            "Please note that this code assumes that the dataframe `df` already contains the columns mentioned in the question (`['Date', 'Open', 'High', 'Low', 'Close', 'Adj Close', 'Volume']`).\n"
          ]
        }
      ],
      "source": [
        "import pandas as pd\n",
        "import json\n",
        "import time\n",
        "\n",
        "Stock_price = pd.read_csv(\"../example/data/Stock_price_TSLA.csv\")\n",
        "\n",
        "new_metrics = summarize_dataset(Stock_price, \"Stock_price_TSLA\", \"Market Dataset\")\n",
        "\n",
        "new_metrics = json.loads(new_metrics)\n",
        "\n",
        "print(new_metrics)\n",
        "\n",
        "print(create_new_col(new_metrics, Stock_price, \"Stock_price_TSLA\", \"Market Dataset\"))\n",
        "\n",
        "time.sleep(60)"
      ]
    },
    {
      "cell_type": "code",
      "execution_count": 8,
      "metadata": {},
      "outputs": [
        {
          "name": "stdout",
          "output_type": "stream",
          "text": [
            "['Inflation rate', 'Core inflation rate', 'Energy inflation rate']\n",
            "To calculate the inflation rate, we can use the percentage change formula:\n",
            "\n",
            "Inflation rate = ((current value - previous value) / previous value) * 100\n",
            "\n",
            "To calculate the core inflation rate, we can calculate the percentage change in the \"All-items excluding food and energy 7\" column.\n",
            "\n",
            "To calculate the energy inflation rate, we can calculate the percentage change in the \"Energy 7\" column.\n",
            "\n",
            "Here's the executable Python code to add the new columns:\n",
            "\n",
            "```python\n",
            "# Calculate the inflation rate\n",
            "df['Inflation rate'] = ((df['All-items'] - df['All-items'].shift(1)) / df['All-items'].shift(1)) * 100\n",
            "\n",
            "# Calculate the core inflation rate\n",
            "df['Core inflation rate'] = ((df['All-items excluding food and energy 7'] - df['All-items excluding food and energy 7'].shift(1)) / df['All-items excluding food and energy 7'].shift(1)) * 100\n",
            "\n",
            "# Calculate the energy inflation rate\n",
            "df['Energy inflation rate'] = ((df['Energy 7'] - df['Energy 7'].shift(1)) / df['Energy 7'].shift(1)) * 100\n",
            "```\n"
          ]
        }
      ],
      "source": [
        "CPI = pd.read_csv(\"../example/data/Consumer_price_index.csv\")\n",
        "\n",
        "new_metrics = summarize_dataset(CPI, \"Consumer_price_index\", \"Economic Dataset\")\n",
        "\n",
        "new_metrics = json.loads(new_metrics)\n",
        "\n",
        "print(new_metrics)\n",
        "\n",
        "print(create_new_col(new_metrics, CPI, \"Consumer_price_index\", \"Economic Dataset\"))\n",
        "\n",
        "time.sleep(60)"
      ]
    },
    {
      "cell_type": "code",
      "execution_count": 9,
      "metadata": {},
      "outputs": [
        {
          "name": "stdout",
          "output_type": "stream",
          "text": [
            "['Gross Profit Margin', 'Operating Margin', 'Net Profit Margin']\n",
            "df['Gross Profit Margin'] = df['Gross Profit'] / df['Total Revenue'] * 100\n",
            "df['Operating Margin'] = df['Operating Income/Expenses'] / df['Total Revenue'] * 100\n",
            "df['Net Profit Margin'] = df['Net Income Available to Common Stockholders'] / df['Total Revenue'] * 100\n"
          ]
        }
      ],
      "source": [
        "income_statement = pd.read_csv(\"../example/data/Income_statement.csv\")\n",
        "\n",
        "new_metrics = summarize_dataset(income_statement, \"Income_statement\", \"Corporate Dataset\")\n",
        "\n",
        "new_metrics = json.loads(new_metrics)\n",
        "\n",
        "print(new_metrics)\n",
        "\n",
        "print(create_new_col(new_metrics, income_statement, \"Income_statement\", \"Corporate Dataset\"))"
      ]
    },
    {
      "cell_type": "code",
      "execution_count": null,
      "metadata": {},
      "outputs": [],
      "source": []
    }
  ],
  "metadata": {
    "colab": {
      "provenance": []
    },
    "kernelspec": {
      "display_name": "Python 3",
      "name": "python3"
    },
    "language_info": {
      "codemirror_mode": {
        "name": "ipython",
        "version": 3
      },
      "file_extension": ".py",
      "mimetype": "text/x-python",
      "name": "python",
      "nbconvert_exporter": "python",
      "pygments_lexer": "ipython3",
      "version": "3.8.18"
    }
  },
  "nbformat": 4,
  "nbformat_minor": 0
}
