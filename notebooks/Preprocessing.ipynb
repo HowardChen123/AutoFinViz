{
 "cells": [
  {
   "cell_type": "code",
   "execution_count": 1,
   "metadata": {},
   "outputs": [],
   "source": [
    "import pandas as pd"
   ]
  },
  {
   "cell_type": "code",
   "execution_count": 2,
   "metadata": {},
   "outputs": [],
   "source": [
    "def transpose_dataset(df):\n",
    "\n",
    "  df.set_index(df.columns[0], inplace=True)\n",
    "  \n",
    "  return df.T"
   ]
  },
  {
   "cell_type": "code",
   "execution_count": 36,
   "metadata": {},
   "outputs": [],
   "source": [
    "from datetime import datetime\n",
    "\n",
    "CPI = pd.read_csv(\"../example/data/Consumer_price_index_raw.csv\")\n",
    "\n",
    "# Transpose the Dataset\n",
    "CPI = transpose_dataset(CPI)\n",
    "\n",
    "# Create 'Date' column\n",
    "CPI[\"Date\"] = CPI.index\n",
    "CPI = CPI.reset_index(drop= True)\n",
    "\n",
    "# Convert 'Date' column to datetime\n",
    "CPI['Date'] = CPI['Date'].apply(lambda x: datetime.strptime(x, \"%b-%y\").strftime(\"%Y-%m-%d\"))\n",
    "\n",
    "first_column = CPI.pop('Date') \n",
    "CPI.insert(0, 'Date', first_column) \n",
    "\n",
    "CPI.to_csv(\"../example/data/Consumer_price_index.csv\", index=False)"
   ]
  },
  {
   "cell_type": "code",
   "execution_count": 28,
   "metadata": {},
   "outputs": [],
   "source": [
    "import numpy as np\n",
    "\n",
    "income_statement = pd.read_csv(\"../example/data/Income_statement_raw.csv\")\n",
    "\n",
    "# Transpose the Dataset\n",
    "income_statement = transpose_dataset(income_statement)\n",
    "\n",
    "# Create 'Date' column\n",
    "income_statement[\"Date\"] = income_statement.index\n",
    "income_statement = income_statement.reset_index(drop= True)\n",
    "\n",
    "# Convert 'TTM' value to 2023\n",
    "ttm_rows = income_statement['Date'] == \"TTM\"\n",
    "income_statement.loc[ttm_rows, 'Date'] = 2023\n",
    "\n",
    "# Convert 'Date' column to datetime, ignore errors for non-numeric values\n",
    "income_statement['Date'] = pd.to_datetime(income_statement['Date'], errors='coerce', format='%Y')\n",
    "\n",
    "# Specify the day and month for the target date\n",
    "target_day = 31\n",
    "target_month = 12\n",
    "\n",
    "# Update the 'Date' column with the target date\n",
    "income_statement['Date'] = income_statement['Date'].apply(lambda x: x.replace(day=target_day, month=target_month) if not pd.isnull(x) else x)\n",
    "\n",
    "first_column = income_statement.pop('Date') \n",
    "income_statement.insert(0, 'Date', first_column) \n",
    "\n",
    "income_statement.replace('.', np.nan, inplace=True)\n",
    "income_statement = income_statement.dropna(axis=1) \n",
    "\n",
    "income_statement.to_csv(\"../example/data/Income_statement.csv\", index=False)"
   ]
  }
 ],
 "metadata": {
  "kernelspec": {
   "display_name": "base",
   "language": "python",
   "name": "python3"
  },
  "language_info": {
   "codemirror_mode": {
    "name": "ipython",
    "version": 3
   },
   "file_extension": ".py",
   "mimetype": "text/x-python",
   "name": "python",
   "nbconvert_exporter": "python",
   "pygments_lexer": "ipython3",
   "version": "3.10.13"
  }
 },
 "nbformat": 4,
 "nbformat_minor": 2
}
