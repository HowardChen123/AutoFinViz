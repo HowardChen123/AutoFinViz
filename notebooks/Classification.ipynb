{
  "cells": [
    {
      "cell_type": "code",
      "execution_count": 11,
      "metadata": {
        "colab": {
          "base_uri": "https://localhost:8080/"
        },
        "id": "8Jp_WVZgm33K",
        "outputId": "a6854da6-77f0-4e5d-b9bb-bdc87c80d994"
      },
      "outputs": [
        {
          "name": "stdout",
          "output_type": "stream",
          "text": [
            "Requirement already satisfied: openai in /Users/borisyu/opt/anaconda3/lib/python3.8/site-packages (1.3.5)\n",
            "Requirement already satisfied: anyio<4,>=3.5.0 in /Users/borisyu/opt/anaconda3/lib/python3.8/site-packages (from openai) (3.5.0)\n",
            "Requirement already satisfied: distro<2,>=1.7.0 in /Users/borisyu/opt/anaconda3/lib/python3.8/site-packages (from openai) (1.8.0)\n",
            "Requirement already satisfied: httpx<1,>=0.23.0 in /Users/borisyu/opt/anaconda3/lib/python3.8/site-packages (from openai) (0.25.2)\n",
            "Requirement already satisfied: pydantic<3,>=1.9.0 in /Users/borisyu/opt/anaconda3/lib/python3.8/site-packages (from openai) (1.9.2)\n",
            "Requirement already satisfied: tqdm>4 in /Users/borisyu/opt/anaconda3/lib/python3.8/site-packages (from openai) (4.65.0)\n",
            "Requirement already satisfied: typing-extensions<5,>=4.5 in /Users/borisyu/opt/anaconda3/lib/python3.8/site-packages (from openai) (4.7.1)\n",
            "Requirement already satisfied: idna>=2.8 in /Users/borisyu/opt/anaconda3/lib/python3.8/site-packages (from anyio<4,>=3.5.0->openai) (3.4)\n",
            "Requirement already satisfied: sniffio>=1.1 in /Users/borisyu/opt/anaconda3/lib/python3.8/site-packages (from anyio<4,>=3.5.0->openai) (1.2.0)\n",
            "Requirement already satisfied: certifi in /Users/borisyu/opt/anaconda3/lib/python3.8/site-packages (from httpx<1,>=0.23.0->openai) (2023.7.22)\n",
            "Requirement already satisfied: httpcore==1.* in /Users/borisyu/opt/anaconda3/lib/python3.8/site-packages (from httpx<1,>=0.23.0->openai) (1.0.2)\n",
            "Requirement already satisfied: h11<0.15,>=0.13 in /Users/borisyu/opt/anaconda3/lib/python3.8/site-packages (from httpcore==1.*->httpx<1,>=0.23.0->openai) (0.14.0)\n"
          ]
        }
      ],
      "source": [
        "!pip install openai"
      ]
    },
    {
      "cell_type": "code",
      "execution_count": 12,
      "metadata": {},
      "outputs": [],
      "source": [
        "## Get API from 'apikey' file\n",
        "filename = '../apikey'\n",
        "def get_file_contents(filename):\n",
        "    \"\"\" Given a filename,\n",
        "        return the contents of that file\n",
        "    \"\"\"\n",
        "    try:\n",
        "        with open(filename, 'r') as f:\n",
        "            return f.read().strip()\n",
        "    except FileNotFoundError:\n",
        "        print(\"'%s' file not found\" % filename)\n",
        "api_key = get_file_contents(filename)\n",
        "# print(\"Your API key is: %s\" % (api_key))"
      ]
    },
    {
      "cell_type": "code",
      "execution_count": 13,
      "metadata": {
        "id": "GYAJrm6emtgU"
      },
      "outputs": [],
      "source": [
        "from openai import OpenAI\n",
        "\n",
        "client = OpenAI(\n",
        "  api_key= api_key\n",
        ")"
      ]
    },
    {
      "cell_type": "code",
      "execution_count": 14,
      "metadata": {
        "colab": {
          "base_uri": "https://localhost:8080/"
        },
        "id": "ga81su6ymvJD",
        "outputId": "796929a4-9d5b-4187-cdaa-d18b0c4fcb01"
      },
      "outputs": [
        {
          "name": "stdout",
          "output_type": "stream",
          "text": [
            "ChatCompletionMessage(content=\"In the realm of algorithms, a mystic tale unfolds,\\nWhere loops entwine and boundaries are boldly sold.\\nDeep in the code, a concept we embrace,\\nA spellbinding dance known as recursion's grace.\\n\\nIt starts with a function, a magic incantation,\\nWhispered softly, invoking self-generation.\\nA creature born from code, majestic and free,\\nCreating infinite loops, oh how it fills me with glee.\\n\\nWith every step taken, a problem is divided,\\nInto smaller fragments, never derided.\\nThe function calls itself, a mirror reflection,\\nExpanding horizons through boundless connection.\\n\\nImagine a maze, where paths seem to twist,\\nRecursion unravels, for no step is missed.\\nEach recursive call, a leap of faith enlightened,\\nExploring all options, a realm freshly brightened.\\n\\nBut wait, there's a trick, a path yet unseen,\\nRecursion dances between realms unforeseen.\\nA crucial base case, a beacon to guide,\\nEnsuring the dance doesn't swallow its stride.\\n\\nFor in its enchantment lies both beauty and might,\\nYet without caution, it may stretch out of sight.\\nStacks upon stacks, reaching skyward, beware,\\nFor exceeding limits may lead to despair.\\n\\nBut fear not, dear programmer, for with wisdom and care,\\nRecursion will lead you to a solution so rare.\\nThrough algorithms and logic, a poetic dance,\\nRecursion, oh recursion, your charm will entrance.\\n\\nSo embrace this concept, with caution and glee,\\nLet recursion unravel, sets your mind free.\\nIn the realm of programming, its power we find,\\nA captivating dance, in the realms of the mind.\", role='assistant', function_call=None, tool_calls=None)\n"
          ]
        }
      ],
      "source": [
        "## Testing ChatGPT API\n",
        "completion = client.chat.completions.create(\n",
        "  model=\"gpt-3.5-turbo\",\n",
        "  messages=[\n",
        "    {\"role\": \"system\", \"content\": \"You are a poetic assistant, skilled in explaining complex programming concepts with creative flair.\"},\n",
        "    {\"role\": \"user\", \"content\": \"Compose a poem that explains the concept of recursion in programming.\"}\n",
        "  ]\n",
        ")\n",
        "\n",
        "print(completion.choices[0].message)"
      ]
    },
    {
      "cell_type": "code",
      "execution_count": 15,
      "metadata": {
        "id": "RMV7wpHn9_Qx"
      },
      "outputs": [],
      "source": [
        "def classify_dataset(df):\n",
        "\n",
        "  col = df.columns\n",
        "\n",
        "  system_prompt = \"\"\"\n",
        "  You are an experienced financial analyst that understand all financial datasets and can classify them into Market Dataset, Economic Dataset or Corporate Financial Dataset.\n",
        "  i) ALWAYS choose one from Market Dataset, Economic Dataset or Corporate Financial Dataset when classifying dataset\n",
        " ii) ONLY return either 'Market Dataset' tag, 'Economic Dataset' tag or 'Corporate Financial Dataset' tag.\n",
        "  \"\"\"\n",
        "\n",
        "  message = f\"\"\"\n",
        "  Classify the dataset into Market Dataset, Economic Dataset or Corporate Financial Dataset, with its columns names below\n",
        "  {list(col)}\n",
        "  ONLY return either 'Market Dataset' tag, 'Economic Dataset' tag or 'Corporate Financial Dataset' tag.\n",
        "\n",
        "  \"\"\"\n",
        "\n",
        "  completion = client.chat.completions.create(\n",
        "    model=\"gpt-3.5-turbo\",\n",
        "    messages=[\n",
        "      {\"role\": \"system\", \"content\": system_prompt},\n",
        "      {\"role\": \"assistant\", \"content\": message}\n",
        "    ]\n",
        "  )\n",
        "\n",
        "  return completion.choices[0].message.content"
      ]
    },
    {
      "cell_type": "code",
      "execution_count": 16,
      "metadata": {
        "id": "Yjcbb_pznVeY"
      },
      "outputs": [],
      "source": [
        "def transpose_dataset(df):\n",
        "\n",
        "  df.set_index(df.columns[0], inplace=True)\n",
        "  return df.T"
      ]
    },
    {
      "cell_type": "code",
      "execution_count": 17,
      "metadata": {
        "colab": {
          "base_uri": "https://localhost:8080/"
        },
        "id": "bEJWZzEd490E",
        "outputId": "0845c131-cc72-4abd-a55f-e27c8e89b80f"
      },
      "outputs": [
        {
          "data": {
            "text/plain": [
              "'Market Dataset'"
            ]
          },
          "execution_count": 17,
          "metadata": {},
          "output_type": "execute_result"
        }
      ],
      "source": [
        "import pandas as pd\n",
        "\n",
        "Stock_price = pd.read_csv(\"../example/data/Stock_price_TSLA.csv\")\n",
        "\n",
        "classify_dataset(Stock_price)"
      ]
    },
    {
      "cell_type": "code",
      "execution_count": 18,
      "metadata": {
        "colab": {
          "base_uri": "https://localhost:8080/",
          "height": 35
        },
        "id": "TWx7Zob79QzS",
        "outputId": "c36b2c4d-3d33-48b5-8df7-55183d2de518"
      },
      "outputs": [
        {
          "data": {
            "text/plain": [
              "'Corporate Financial Dataset'"
            ]
          },
          "execution_count": 18,
          "metadata": {},
          "output_type": "execute_result"
        }
      ],
      "source": [
        "income_statement = pd.read_csv(\"../example/data/Income_statement.csv\")\n",
        "\n",
        "income_statement = transpose_dataset(income_statement)\n",
        "\n",
        "classify_dataset(income_statement)"
      ]
    },
    {
      "cell_type": "code",
      "execution_count": 19,
      "metadata": {
        "colab": {
          "base_uri": "https://localhost:8080/",
          "height": 357
        },
        "id": "pcMgcXVSTLF-",
        "outputId": "30e8bf89-cd0c-466c-acc2-d856f4475468"
      },
      "outputs": [
        {
          "data": {
            "text/plain": [
              "'Economic Dataset'"
            ]
          },
          "execution_count": 19,
          "metadata": {},
          "output_type": "execute_result"
        }
      ],
      "source": [
        "CPI = pd.read_csv(\"../example/data/Consumer_price_index.csv\")\n",
        "\n",
        "CPI = transpose_dataset(CPI)\n",
        "\n",
        "classify_dataset(CPI)"
      ]
    },
    {
      "cell_type": "code",
      "execution_count": null,
      "metadata": {},
      "outputs": [],
      "source": []
    }
  ],
  "metadata": {
    "colab": {
      "provenance": []
    },
    "kernelspec": {
      "display_name": "Python 3",
      "name": "python3"
    },
    "language_info": {
      "codemirror_mode": {
        "name": "ipython",
        "version": 3
      },
      "file_extension": ".py",
      "mimetype": "text/x-python",
      "name": "python",
      "nbconvert_exporter": "python",
      "pygments_lexer": "ipython3",
      "version": "3.8.18"
    }
  },
  "nbformat": 4,
  "nbformat_minor": 0
}
